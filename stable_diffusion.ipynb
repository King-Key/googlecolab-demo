{
  "cells": [
    {
      "cell_type": "code",
      "execution_count": null,
      "metadata": {
        "id": "_FGwF61C8a5C"
      },
      "outputs": [],
      "source": [
        "from google.colab import output\n",
        "output.enable_custom_widget_manager()\n",
        "\n",
        "from huggingface_hub import notebook_login\n",
        "notebook_login()"
      ]
    },
    {
      "cell_type": "code",
      "execution_count": null,
      "metadata": {
        "id": "ZkGbt-gWzlky"
      },
      "outputs": [],
      "source": [
        "!pip install \"ipywidgets>=7,<8\"\n",
        "!pip install diffusers\n",
        "!pip install  transformers scipy ftfy\n",
        "!pip install accelerate\n",
        "!pip install gradio\n",
        "\n",
        "!nvidia-smi"
      ]
    },
    {
      "cell_type": "code",
      "execution_count": null,
      "metadata": {
        "id": "wi52OgaFG0K9"
      },
      "outputs": [],
      "source": [
        "from diffusers import StableDiffusionPipeline\n",
        "import torch\n",
        "import gradio\n",
        "\n",
        "start_time=time.time()\n",
        "\n",
        "model_id = \"CompVis/stable-diffusion-v1-4\"\n",
        "pipe = StableDiffusionPipeline.from_pretrained(model_id, torch_dtype=torch.float16)\n",
        "pipe = pipe.to(\"cuda\")\n",
        "\n",
        "def segment(text):\n",
        "  image=pipe(text).images[0]\n",
        "  return image  \n",
        "\n",
        "gradio.Interface(\n",
        "    fn=segment,\n",
        "    outputs=\"image\",\n",
        "    inputs=\"text\",\n",
        "    title=\"text2image\",\n",
        "    live=True\n",
        "    ).launch(share=True)\n"
      ]
    }
  ],
  "metadata": {
    "accelerator": "GPU",
    "colab": {
      "provenance": []
    },
    "gpuClass": "standard",
    "kernelspec": {
      "display_name": "Python 3",
      "name": "python3"
    },
    "language_info": {
      "name": "python"
    }
  },
  "nbformat": 4,
  "nbformat_minor": 0
}