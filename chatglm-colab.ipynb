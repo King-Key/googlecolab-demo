{
  "nbformat": 4,
  "nbformat_minor": 0,
  "metadata": {
    "colab": {
      "provenance": []
    },
    "kernelspec": {
      "name": "python3",
      "display_name": "Python 3"
    },
    "language_info": {
      "name": "python"
    },
    "accelerator": "GPU",
    "gpuClass": "standard"
  },
  "cells": [
    {
      "cell_type": "code",
      "source": [
        "!git clone https://github.com/THUDM/ChatGLM-6B\n",
        "%cd ChatGLM-6B\n",
        "\n",
        "!pip install -r requirements.txt"
      ],
      "metadata": {
        "id": "vF-IV0_hO03_"
      },
      "execution_count": null,
      "outputs": []
    },
    {
      "cell_type": "code",
      "execution_count": null,
      "metadata": {
        "id": "W5cE8eHuq_tC"
      },
      "outputs": [],
      "source": [
        "!python web_demo.py"
      ]
    }
  ]
}
