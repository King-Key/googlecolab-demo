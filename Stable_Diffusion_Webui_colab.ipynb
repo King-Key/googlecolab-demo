{
  "cells": [
    {
      "cell_type": "code",
      "execution_count": null,
      "metadata": {
        "id": "4St8SzLp3_hR"
      },
      "outputs": [],
      "source": [
        "!git clone https://github.com/AUTOMATIC1111/stable-diffusion-webui.git\n",
        "!pwd"
      ]
    },
    {
      "cell_type": "code",
      "execution_count": null,
      "metadata": {
        "id": "-6xuh1_Y4PgW"
      },
      "outputs": [],
      "source": [
        "!pip install virtualenv\n",
        "%cd \"/content/stable-diffusion-webui\"\n",
        "!pwd"
      ]
    },
    {
      "cell_type": "code",
      "execution_count": null,
      "metadata": {
        "id": "589vz90861c4"
      },
      "outputs": [],
      "source": [
        "!virtualenv venv\n",
        "!source venv/bin/activate"
      ]
    },
    {
      "cell_type": "code",
      "execution_count": null,
      "metadata": {
        "id": "xzjONuxh4-In"
      },
      "outputs": [],
      "source": [
        "!pip install -r requirements_versions.txt"
      ]
    },
    {
      "cell_type": "code",
      "execution_count": null,
      "metadata": {
        "id": "t35ow-O_8P11"
      },
      "outputs": [],
      "source": [
        "!pip install torch==1.13.1+cu117 torchvision==0.14.1+cu117 torchtext==0.14.1 torchaudio==0.13.1 torchdata==0.5.1 --extra-index-url https://download.pytorch.org/whl/cu117"
      ]
    },
    {
      "cell_type": "code",
      "execution_count": null,
      "metadata": {
        "id": "Jk-kcm2lSX_Y"
      },
      "outputs": [],
      "source": [
        "!git clone https://huggingface.co/luxluna/cuteGirlMix4_v10/resolve/main/cuteGirlMix4_v10.safetensors /content/stable-diffusion-webui/models/Stable-diffusion/cuteGirlMix4_v10.safetensors"
      ]
    },
    {
      "cell_type": "code",
      "execution_count": null,
      "metadata": {
        "id": "PcYI7zjzK8X4"
      },
      "outputs": [],
      "source": [
        "!python launch.py --gradio-queue --share"
      ]
    }
  ],
  "metadata": {
    "accelerator": "GPU",
    "colab": {
      "provenance": []
    },
    "gpuClass": "standard",
    "kernelspec": {
      "display_name": "Python 3",
      "name": "python3"
    },
    "language_info": {
      "name": "python"
    }
  },
  "nbformat": 4,
  "nbformat_minor": 0
}