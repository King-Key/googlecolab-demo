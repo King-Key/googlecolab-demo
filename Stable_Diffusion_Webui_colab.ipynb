!git clone https://github.com/AUTOMATIC1111/stable-diffusion-webui.git
!pwd
!pip install virtualenv
%cd "/content/stable-diffusion-webui"
!pwd
!virtualenv venv
!source venv/bin/activate
!pip install -r requirements_versions.txt
!pip install torch==1.13.1+cu117 torchvision==0.14.1+cu117 torchtext==0.14.1 torchaudio==0.13.1 torchdata==0.5.1 --extra-index-url https://download.pytorch.org/whl/cu117
加入扩展程序
- 汉化
!git clone https://github.com/dtlnor/stable-diffusion-webui-localization-zh_CN.git /content/stable-diffusion-webui/extensions/stable-diffusion-webui-localization-zh_CN
!git clone https://huggingface.co/luxluna/cuteGirlMix4_v10/resolve/main/cuteGirlMix4_v10.safetensors /content/stable-diffusion-webui/models/Stable-diffusion/cuteGirlMix4_v10.safetensors
运行
!python launch.py --gradio-queue --share
